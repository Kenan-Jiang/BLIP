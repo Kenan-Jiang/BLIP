{
 "cells": [
  {
   "cell_type": "code",
   "execution_count": 1,
   "metadata": {},
   "outputs": [],
   "source": [
    "import models"
   ]
  },
  {
   "cell_type": "code",
   "execution_count": 2,
   "metadata": {},
   "outputs": [
    {
     "name": "stderr",
     "output_type": "stream",
     "text": [
      "/home/kenan/.conda/envs/clip-torch/lib/python3.9/site-packages/tqdm/auto.py:22: TqdmWarning: IProgress not found. Please update jupyter and ipywidgets. See https://ipywidgets.readthedocs.io/en/stable/user_install.html\n",
      "  from .autonotebook import tqdm as notebook_tqdm\n"
     ]
    }
   ],
   "source": [
    "from PIL import Image\n",
    "import torch\n",
    "from torchvision import transforms\n",
    "from torchvision.transforms.functional import InterpolationMode\n",
    "\n",
    "device = torch.device('cuda' if torch.cuda.is_available() else 'cpu')"
   ]
  },
  {
   "cell_type": "code",
   "execution_count": 3,
   "metadata": {},
   "outputs": [],
   "source": [
    "def load_one_image(file_path, image_size, device):\n",
    "    raw_image = Image.open(file_path).convert('RGB')   \n",
    "\n",
    "    w,h = raw_image.size\n",
    "    \n",
    "    transform = transforms.Compose([\n",
    "        transforms.Resize((image_size,image_size),interpolation=InterpolationMode.BICUBIC),\n",
    "        transforms.ToTensor(),\n",
    "        transforms.Normalize((0.48145466, 0.4578275, 0.40821073), (0.26862954, 0.26130258, 0.27577711))\n",
    "        ]) \n",
    "    image = transform(raw_image).unsqueeze(0).to(device)   \n",
    "    return image"
   ]
  },
  {
   "cell_type": "code",
   "execution_count": 4,
   "metadata": {},
   "outputs": [
    {
     "name": "stdout",
     "output_type": "stream",
     "text": [
      "load checkpoint from https://storage.googleapis.com/sfr-vision-language-research/BLIP/models/model_base.pth\n"
     ]
    }
   ],
   "source": [
    "from models.blip import blip_feature_extractor\n",
    "\n",
    "image_size = 224\n",
    "model_url = 'https://storage.googleapis.com/sfr-vision-language-research/BLIP/models/model_base.pth'   \n",
    "\n",
    "model = blip_feature_extractor(pretrained=model_url, image_size=image_size, vit='base')\n",
    "model.eval()\n",
    "model = model.to(device=device)"
   ]
  },
  {
   "cell_type": "code",
   "execution_count": 5,
   "metadata": {},
   "outputs": [],
   "source": [
    "def do_one_inference(caption, image):\n",
    "    itm_output = model(image,caption,match_head='itm')\n",
    "    itm_output = itm_output.to('cpu')\n",
    "    itm_score = torch.nn.functional.softmax(itm_output,dim=1)[:,1]\n",
    "    # print('The image and text is matched with a probability of %.4f'%itm_score)\n",
    "    # itc_score = model(image,caption,match_head='itc')\n",
    "    # itc_score = itc_score.to('cpu')\n",
    "    # print('The image feature and text feature has a cosine similarity of %.4f'%itc_score)\n",
    "    if itm_score > 0.5:\n",
    "        if_match = 1\n",
    "    else:\n",
    "        if_match = 0\n",
    "    return itm_score, 0, if_match"
   ]
  },
  {
   "cell_type": "code",
   "execution_count": 6,
   "metadata": {},
   "outputs": [],
   "source": [
    "import pandas as pd\n",
    "from PIL import UnidentifiedImageError\n",
    "from fastprogress.fastprogress import progress_bar\n",
    "svo_cleaned = pd.read_csv('svo-probs/svo_valid.csv')\n",
    "svo_cleaned.head(2)\n",
    "testset = svo_cleaned[[\"sentence\", \"pos_image_id\", \"neg_image_id\"]]\n",
    "image_path = \"/data1/kenan/SVO_Probes/images/\""
   ]
  },
  {
   "cell_type": "code",
   "execution_count": 17,
   "metadata": {},
   "outputs": [],
   "source": [
    "testset2 = svo_cleaned[35764:][[\"sentence\", \"pos_image_id\", \"neg_image_id\"]]"
   ]
  },
  {
   "cell_type": "code",
   "execution_count": 18,
   "metadata": {},
   "outputs": [
    {
     "name": "stdout",
     "output_type": "stream",
     "text": [
      "36000\n"
     ]
    }
   ],
   "source": [
    "matched_id = []\n",
    "for idx, (sentence, pos, neg) in testset2.iterrows():\n",
    "    if idx % 1000 == 0:\n",
    "        print(idx)\n",
    "    try:\n",
    "        pos_url = image_path + str(pos) + \".jpg\"\n",
    "        image = load_one_image(pos_url, image_size=image_size,device=device)\n",
    "        pos_image_feature = model(image, sentence, mode='image')[0,0]\n",
    "\n",
    "        neg_url = image_path + str(neg) + \".jpg\"\n",
    "        image = load_one_image(neg_url, image_size=image_size,device=device)\n",
    "        neg_image_feature = model(image, sentence, mode='image')[0,0]\n",
    "\n",
    "        text_feat = model(image, sentence, mode='text')[0,0]\n",
    "\n",
    "        pos_sim = pos_image_feature @ text_feat.t()\n",
    "        neg_sim = neg_image_feature @ text_feat.t()\n",
    "\n",
    "        if pos_sim > neg_sim:\n",
    "            matched_id.append(0)\n",
    "        elif pos_sim == neg_sim:\n",
    "            matched_id.append(0.5)\n",
    "        else:\n",
    "            matched_id.append(1)\n",
    "    except UnidentifiedImageError:\n",
    "        matched_id.append(\"image_failed\")"
   ]
  },
  {
   "cell_type": "code",
   "execution_count": 19,
   "metadata": {},
   "outputs": [
    {
     "data": {
      "text/plain": [
       "366"
      ]
     },
     "execution_count": 19,
     "metadata": {},
     "output_type": "execute_result"
    }
   ],
   "source": [
    "len(matched_id)"
   ]
  },
  {
   "cell_type": "code",
   "execution_count": 20,
   "metadata": {},
   "outputs": [],
   "source": [
    "svo_cleaned_35764 = svo_cleaned[35764:]"
   ]
  },
  {
   "cell_type": "code",
   "execution_count": 21,
   "metadata": {},
   "outputs": [],
   "source": [
    "svo_cleaned_35764[\"matched_id\"] = matched_id"
   ]
  },
  {
   "cell_type": "code",
   "execution_count": 22,
   "metadata": {},
   "outputs": [],
   "source": [
    "svo_cleaned_35764.to_csv(\"svo-probs/svo_35764.csv\", index=False)"
   ]
  },
  {
   "cell_type": "code",
   "execution_count": null,
   "metadata": {},
   "outputs": [],
   "source": []
  }
 ],
 "metadata": {
  "kernelspec": {
   "display_name": "Python 3.9.12 ('clip-torch')",
   "language": "python",
   "name": "python3"
  },
  "language_info": {
   "codemirror_mode": {
    "name": "ipython",
    "version": 3
   },
   "file_extension": ".py",
   "mimetype": "text/x-python",
   "name": "python",
   "nbconvert_exporter": "python",
   "pygments_lexer": "ipython3",
   "version": "3.9.12"
  },
  "orig_nbformat": 4,
  "vscode": {
   "interpreter": {
    "hash": "88beffe3055ef9797590ee073211e9aee9c8621e04d2e6cfacd27b0cbc9abf46"
   }
  }
 },
 "nbformat": 4,
 "nbformat_minor": 2
}
